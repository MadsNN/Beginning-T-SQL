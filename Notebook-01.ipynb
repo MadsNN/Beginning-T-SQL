{
    "metadata": {
        "kernelspec": {
            "name": "SQL",
            "display_name": "SQL",
            "language": "sql"
        },
        "language_info": {
            "name": "sql",
            "version": ""
        }
    },
    "nbformat_minor": 2,
    "nbformat": 4,
    "cells": [
        {
            "cell_type": "code",
            "source": [
                "SELECT COUNT(*) AS PersonCount\n",
                "  FROM [AdventureWorks2019].[Person].[Person]"
            ],
            "metadata": {
                "azdata_cell_guid": "20e914c8-6bda-48f4-a25d-67711b561f51"
            },
            "outputs": [
                {
                    "output_type": "display_data",
                    "data": {
                        "text/html": "(1 row affected)"
                    },
                    "metadata": {}
                },
                {
                    "output_type": "display_data",
                    "data": {
                        "text/html": "Total execution time: 00:00:00.008"
                    },
                    "metadata": {}
                },
                {
                    "output_type": "execute_result",
                    "execution_count": 1,
                    "data": {
                        "application/vnd.dataresource+json": {
                            "schema": {
                                "fields": [
                                    {
                                        "name": "PersonCount"
                                    }
                                ]
                            },
                            "data": [
                                {
                                    "0": "19972"
                                }
                            ]
                        },
                        "text/html": "<table><tr><th>PersonCount</th></tr><tr><td>19972</td></tr></table>"
                    },
                    "metadata": {}
                }
            ],
            "execution_count": 1
        },
        {
            "cell_type": "code",
            "source": [
                "SELECT DISTINCT [City]\r\n",
                ", PostalCode\r\n",
                "  FROM [AdventureWorks2019].[Person].[Address]\r\n",
                "  order by City"
            ],
            "metadata": {
                "azdata_cell_guid": "a117e7a0-bef1-4e6a-8cef-7c796317a803"
            },
            "outputs": [
{
    "output_type": "display_data",
    "data": {
        "text/html": "(673 rows affected)"
    },
    "metadata": {}
}, {
    "output_type": "display_data",
    "data": {
        "text/html": "Total execution time: 00:00:00.045"
    },
    "metadata": {}
}, {
    "output_type": "execute_result",
    "metadata": {},
    "execution_count": 1,
    "data": {
        "application/vnd.dataresource+json": {
            "schema": {
                "fields": [
                    {
                        "name": "City"
                    },
                    {
                        "name": "PostalCode"
                    }
                ]
            },
            "data": [
                {
                    "0": "Abingdon",
                    "1": "OX14 4SE"
                },
                {
                    "0": "Albany",
                    "1": "12210"
                },
                {
                    "0": "Albany",
                    "1": "97321"
                },
                {
                    "0": "Alexandria",
                    "1": "2015"
                },
                {
                    "0": "Alhambra",
                    "1": "91801"
                },
                {
                    "0": "Alpine",
                    "1": "91901"
                },
                {
                    "0": "Altadena",
                    "1": "91001"
                },
                {
                    "0": "Altamonte Springs",
                    "1": "32701"
                },
                {
                    "0": "Anacortes",
                    "1": "98221"
                },
                {
                    "0": "Arlington",
                    "1": "76010"
                },
                {
                    "0": "Ascheim",
                    "1": "86171"
                },
                {
                    "0": "Atlanta",
                    "1": "30308"
                },
                {
                    "0": "Auburn",
                    "1": "95603"
                },
                {
                    "0": "Augsburg",
                    "1": "86150"
                },
                {
                    "0": "Augsburg",
                    "1": "86171"
                },
                {
                    "0": "Augusta",
                    "1": "30901"
                },
                {
                    "0": "Aujan Mournede",
                    "1": "32300"
                },
                {
                    "0": "Aurora",
                    "1": "L4G 7N6"
                },
                {
                    "0": "Austell",
                    "1": "30106"
                },
                {
                    "0": "Austin",
                    "1": "78701"
                },
                {
                    "0": "Bad Soden",
                    "1": "65800"
                },
                {
                    "0": "Baldwin Park",
                    "1": "91706"
                },
                {
                    "0": "Ballard",
                    "1": "98107"
                },
                {
                    "0": "Baltimore",
                    "1": "21201"
                },
                {
                    "0": "Barrie",
                    "1": "L4N"
                },
                {
                    "0": "Barstow",
                    "1": "92311"
                },
                {
                    "0": "Basingstoke Hants",
                    "1": "RG24 8PL"
                },
                {
                    "0": "Baytown",
                    "1": "77520"
                },
                {
                    "0": "Beaverton",
                    "1": "97005"
                },
                {
                    "0": "Bell Gardens",
                    "1": "90201"
                },
                {
                    "0": "Bellevue",
                    "1": "98004"
                },
                {
                    "0": "Bellflower",
                    "1": "90706"
                },
                {
                    "0": "Bellingham",
                    "1": "98225"
                },
                {
                    "0": "Bendigo",
                    "1": "3550"
                },
                {
                    "0": "Berkeley",
                    "1": "94704"
                },
                {
                    "0": "Berks",
                    "1": "SL4 1RH"
                },
                {
                    "0": "Berkshire",
                    "1": "RG11 5TP"
                },
                {
                    "0": "Berlin",
                    "1": "10210"
                },
                {
                    "0": "Berlin",
                    "1": "10501"
                },
                {
                    "0": "Berlin",
                    "1": "10791"
                },
                {
                    "0": "Berlin",
                    "1": "12171"
                },
                {
                    "0": "Berlin",
                    "1": "12311"
                },
                {
                    "0": "Berlin",
                    "1": "13441"
                },
                {
                    "0": "Berlin",
                    "1": "14111"
                },
                {
                    "0": "Berlin",
                    "1": "14129"
                },
                {
                    "0": "Berlin",
                    "1": "14197"
                },
                {
                    "0": "Beverly Hills",
                    "1": "90210"
                },
                {
                    "0": "Billericay",
                    "1": "CM11"
                },
                {
                    "0": "Billings",
                    "1": "59101"
                },
                {
                    "0": "Biloxi",
                    "1": "39530"
                },
                {
                    "0": "Birmingham",
                    "1": "35203"
                },
                {
                    "0": "Birmingham",
                    "1": "B29 6SL"
                },
                {
                    "0": "Bluffton",
                    "1": "29910"
                },
                {
                    "0": "Bobigny",
                    "1": "93000"
                },
                {
                    "0": "Boise",
                    "1": "83702"
                },
                {
                    "0": "Bonn",
                    "1": "53001"
                },
                {
                    "0": "Bonn",
                    "1": "53131"
                },
                {
                    "0": "Bordeaux",
                    "1": "33000"
                },
                {
                    "0": "Boston",
                    "1": "02113"
                },
                {
                    "0": "Bothell",
                    "1": "98011"
                },
                {
                    "0": "Bottrop",
                    "1": "46236"
                },
                {
                    "0": "Boulogne-Billancourt",
                    "1": "92100"
                },
                {
                    "0": "Boulogne-sur-Mer",
                    "1": "62200"
                },
                {
                    "0": "Bountiful",
                    "1": "84010"
                },
                {
                    "0": "Bracknell",
                    "1": "RG12 8TB"
                },
                {
                    "0": "Bradenton",
                    "1": "34205"
                },
                {
                    "0": "Braintree",
                    "1": "02184"
                },
                {
                    "0": "Brampton",
                    "1": "L6W 2T7"
                },
                {
                    "0": "Branch",
                    "1": "55056"
                },
                {
                    "0": "Branson",
                    "1": "65616"
                },
                {
                    "0": "Braunschweig",
                    "1": "38001"
                },
                {
                    "0": "Bremerton",
                    "1": "98312"
                },
                {
                    "0": "Brisbane",
                    "1": "4000"
                },
                {
                    "0": "Brossard",
                    "1": "J4Z 1C5"
                },
                {
                    "0": "Brossard",
                    "1": "J4Z 1R4"
                },
                {
                    "0": "Burbank",
                    "1": "44214"
                },
                {
                    "0": "Burbank",
                    "1": "91502"
                },
                {
                    "0": "Burien",
                    "1": "98168"
                },
                {
                    "0": "Burlingame",
                    "1": "94010"
                },
                {
                    "0": "Burnaby",
                    "1": "V3J 6Z3"
                },
                {
                    "0": "Burnaby",
                    "1": "V5A 3A6"
                },
                {
                    "0": "Burnaby",
                    "1": "V5A 4X1"
                },
                {
                    "0": "Burnaby",
                    "1": "V5G 4S4"
                },
                {
                    "0": "Burnaby",
                    "1": "V5G 4W1"
                },
                {
                    "0": "Burnaby",
                    "1": "V5H 3Z7"
                },
                {
                    "0": "Bury",
                    "1": "PE17"
                },
                {
                    "0": "Byron",
                    "1": "31008"
                },
                {
                    "0": "Calgary",
                    "1": "T2P 2G8"
                },
                {
                    "0": "Caloundra",
                    "1": "4551"
                },
                {
                    "0": "Camarillo",
                    "1": "93010"
                },
                {
                    "0": "Cambridge",
                    "1": "02139"
                },
                {
                    "0": "Cambridge",
                    "1": "BA5 3HX"
                },
                {
                    "0": "Cambridge",
                    "1": "CB4 4BZ"
                },
                {
                    "0": "Campbellsville",
                    "1": "42718"
                },
                {
                    "0": "Canoga Park",
                    "1": "91303"
                },
                {
                    "0": "Carnation",
                    "1": "98014"
                },
                {
                    "0": "Carol Stream",
                    "1": "60188"
                },
                {
                    "0": "Carrollton",
                    "1": "75006"
                },
                {
                    "0": "Carson",
                    "1": "90746"
                },
                {
                    "0": "Casper",
                    "1": "82601"
                },
                {
                    "0": "Cedar City",
                    "1": "84720"
                },
                {
                    "0": "Cedar Park",
                    "1": "78613"
                },
                {
                    "0": "Central Valley",
                    "1": "10917"
                },
                {
                    "0": "Cergy",
                    "1": "95000"
                },
                {
                    "0": "Cerritos",
                    "1": "90703"
                },
                {
                    "0": "Chalk Riber",
                    "1": "K0J 1J0"
                },
                {
                    "0": "Chandler",
                    "1": "85225"
                },
                {
                    "0": "Chantilly",
                    "1": "20151"
                },
                {
                    "0": "Charlotte",
                    "1": "28202"
                },
                {
                    "0": "Chatou",
                    "1": "78400"
                },
                {
                    "0": "Cheektowaga",
                    "1": "14227"
                },
                {
                    "0": "Chehalis",
                    "1": "98532"
                },
                {
                    "0": "Cheltenham",
                    "1": "GL50"
                },
                {
                    "0": "Cheyenne",
                    "1": "82001"
                },
                {
                    "0": "Chicago",
                    "1": "60610"
                },
                {
                    "0": "Chula Vista",
                    "1": "91910"
                },
                {
                    "0": "Cincinnati",
                    "1": "45202"
                },
                {
                    "0": "Citrus Heights",
                    "1": "95610"
                },
                {
                    "0": "City Of Commerce",
                    "1": "90040"
                },
                {
                    "0": "Clackamas",
                    "1": "97015"
                },
                {
                    "0": "Clackamas",
                    "1": "97015-6403"
                },
                {
                    "0": "Clarkston",
                    "1": "30021"
                },
                {
                    "0": "Clay",
                    "1": "13041"
                },
                {
                    "0": "Clearwater",
                    "1": "33755"
                },
                {
                    "0": "Cliffside",
                    "1": "V8Y 1L1"
                },
                {
                    "0": "Cloverdale",
                    "1": "6105"
                },
                {
                    "0": "Coffs Harbour",
                    "1": "2450"
                },
                {
                    "0": "College Station",
                    "1": "77840"
                },
                {
                    "0": "Colma",
                    "1": "94014"
                },
                {
                    "0": "Colombes",
                    "1": "92700"
                },
                {
                    "0": "Colomiers",
                    "1": "31770"
                },
                {
                    "0": "Columbus",
                    "1": "31901"
                },
                {
                    "0": "Columbus",
                    "1": "43215"
                },
                {
                    "0": "Concord",
                    "1": "94519"
                },
                {
                    "0": "Coronado",
                    "1": "92118"
                },
                {
                    "0": "Corpus Christi",
                    "1": "78404"
                },
                {
                    "0": "Corvallis",
                    "1": "97330"
                },
                {
                    "0": "Courbevoie",
                    "1": "92400"
                },
                {
                    "0": "Cranbourne",
                    "1": "3977"
                },
                {
                    "0": "Croix",
                    "1": "59170"
                },
                {
                    "0": "Crossville",
                    "1": "38555"
                },
                {
                    "0": "Culver City",
                    "1": "90232"
                },
                {
                    "0": "Daleville",
                    "1": "47334"
                },
                {
                    "0": "Dallas",
                    "1": "75201"
                },
                {
                    "0": "Daly City",
                    "1": "94015"
                },
                {
                    "0": "Darlinghurst",
                    "1": "2010"
                },
                {
                    "0": "Darmstadt",
                    "1": "64283"
                },
                {
                    "0": "De Witt",
                    "1": "13214"
                },
                {
                    "0": "Decatur",
                    "1": "30030"
                },
                {
                    "0": "Denby",
                    "1": "57716"
                },
                {
                    "0": "Denver",
                    "1": "80203"
                },
                {
                    "0": "Destin",
                    "1": "32541"
                },
                {
                    "0": "Detroit",
                    "1": "48226"
                },
                {
                    "0": "Dorval",
                    "1": "H9P 1H1"
                },
                {
                    "0": "Downey",
                    "1": "37501"
                },
                {
                    "0": "Downey",
                    "1": "90241"
                },
                {
                    "0": "Drancy",
                    "1": "93700"
                },
                {
                    "0": "Dresden",
                    "1": "01071"
                },
                {
                    "0": "Duesseldorf",
                    "1": "40434"
                },
                {
                    "0": "Duesseldorf",
                    "1": "40605"
                },
                {
                    "0": "Duluth",
                    "1": "55802"
                },
                {
                    "0": "Dunkerque",
                    "1": "59140"
                },
                {
                    "0": "Duvall",
                    "1": "98019"
                },
                {
                    "0": "East Brisbane",
                    "1": "4169"
                },
                {
                    "0": "East Haven",
                    "1": "06512"
                },
                {
                    "0": "Edina",
                    "1": "55436"
                },
                {
                    "0": "Edmonds",
                    "1": "98020"
                },
                {
                    "0": "Edmonton",
                    "1": "T5"
                },
                {
                    "0": "Eilenburg",
                    "1": "04838"
                },
                {
                    "0": "El Cajon",
                    "1": "92020"
                },
                {
                    "0": "El Segundo",
                    "1": "90245"
                },
                {
                    "0": "Elgin",
                    "1": "60120"
                },
                {
                    "0": "Elk Grove",
                    "1": "95624"
                },
                {
                    "0": "Ellensburg",
                    "1": "98926"
                },
                {
                    "0": "Endicott",
                    "1": "13760"
                },
                {
                    "0": "Englewood",
                    "1": "80110"
                },
                {
                    "0": "Erlangen",
                    "1": "91054"
                },
                {
                    "0": "Escondido",
                    "1": "92025"
                },
                {
                    "0": "Esher-Molesey",
                    "1": "EM15"
                },
                {
                    "0": "Essen",
                    "1": "45001"
                },
                {
                    "0": "Etobicoke",
                    "1": "M9W 3P3"
                },
                {
                    "0": "Euclid",
                    "1": "44119"
                },
                {
                    "0": "Eureka",
                    "1": "95501"
                },
                {
                    "0": "Everett",
                    "1": "98201"
                },
                {
                    "0": "Falls Church",
                    "1": "22046"
                },
                {
                    "0": "Farmington",
                    "1": "06032"
                },
                {
                    "0": "Federal Way",
                    "1": "98003"
                },
                {
                    "0": "Ferguson",
                    "1": "63135"
                },
                {
                    "0": "Fernley",
                    "1": "89408"
                },
                {
                    "0": "Findon",
                    "1": "5023"
                },
                {
                    "0": "Florence",
                    "1": "35630"
                },
                {
                    "0": "Florence",
                    "1": "41042"
                },
                {
                    "0": "Fontana",
                    "1": "92335"
                },
                {
                    "0": "Fort Wayne",
                    "1": "46807"
                },
                {
                    "0": "Fort Worth",
                    "1": "76102"
                },
                {
                    "0": "Frankfurt",
                    "1": "60323"
                },
                {
                    "0": "Frankfurt",
                    "1": "91480"
                },
                {
                    "0": "Frankfurt am Main",
                    "1": "60061"
                },
                {
                    "0": "Frankfurt am Main",
                    "1": "60075"
                },
                {
                    "0": "Frankfurt am Main",
                    "1": "60082"
                },
                {
                    "0": "Frankfurt am Main",
                    "1": "60355"
                },
                {
                    "0": "Fremont",
                    "1": "94536"
                },
                {
                    "0": "Fullerton",
                    "1": "92831"
                },
                {
                    "0": "Gaffney",
                    "1": "29340"
                },
                {
                    "0": "Garland",
                    "1": "75040"
                },
                {
                    "0": "Gateshead",
                    "1": "GA10"
                },
                {
                    "0": "Geelong",
                    "1": "3220"
                },
                {
                    "0": "Gilbert",
                    "1": "85233"
                },
                {
                    "0": "Gilroy",
                    "1": "95020"
                },
                {
                    "0": "Glendale",
                    "1": "91203"
                },
                {
                    "0": "Gloucestershire",
                    "1": "GL7 1RY"
                },
                {
                    "0": "Gold Bar",
                    "1": "98251"
                },
                {
                    "0": "Gold Coast",
                    "1": "4217"
                },
                {
                    "0": "Goulburn",
                    "1": "2580"
                },
                {
                    "0": "Great Falls",
                    "1": "59401"
                },
                {
                    "0": "Greeley",
                    "1": "80631"
                },
                {
                    "0": "Greensboro",
                    "1": "27412"
                },
                {
                    "0": "Grevenbroich",
                    "1": "41485"
                },
                {
                    "0": "Grossmont",
                    "1": "91941"
                },
                {
                    "0": "Gulfport",
                    "1": "39501"
                },
                {
                    "0": "Hamburg",
                    "1": "20354"
                },
                {
                    "0": "Hamburg",
                    "1": "22001"
                },
                {
                    "0": "Hamden",
                    "1": "06518"
                },
                {
                    "0": "Haney",
                    "1": "V2W 1W2"
                },
                {
                    "0": "Hanford",
                    "1": "93230"
                },
                {
                    "0": "Hannover",
                    "1": "30601"
                },
                {
                    "0": "Hawthorne",
                    "1": "4171"
                },
                {
                    "0": "Hayward",
                    "1": "94541"
                },
                {
                    "0": "Heath",
                    "1": "43056"
                },
                {
                    "0": "Hervey Bay",
                    "1": "4655"
                },
                {
                    "0": "High Wycombe",
                    "1": "HP10 9QY"
                },
                {
                    "0": "Hillsboro",
                    "1": "76645"
                },
                {
                    "0": "Hillsboro",
                    "1": "97123"
                },
                {
                    "0": "Hixson",
                    "1": "37343"
                },
                {
                    "0": "Hobart",
                    "1": "7001"
                },
                {
                    "0": "Hof",
                    "1": "95010"
                },
                {
                    "0": "Holland",
                    "1": "43528"
                },
                {
                    "0": "Holland",
                    "1": "49423"
                },
                {
                    "0": "Hollywood",
                    "1": "33021"
                },
                {
                    "0": "Hooksett",
                    "1": "03106"
                },
                {
                    "0": "Houston",
                    "1": "77003"
                },
                {
                    "0": "Howell",
                    "1": "48843"
                },
                {
                    "0": "Hull",
                    "1": "8Y"
                },
                {
                    "0": "Humble",
                    "1": "77338"
                },
                {
                    "0": "Huntsville",
                    "1": "35801"
                },
                {
                    "0": "Idaho Falls",
                    "1": "83402"
                },
                {
                    "0": "Imperial Beach",
                    "1": "91932"
                },
                {
                    "0": "Index",
                    "1": "98256"
                },
                {
                    "0": "Indianapolis",
                    "1": "46204"
                },
                {
                    "0": "Ingolstadt",
                    "1": "85049"
                },
                {
                    "0": "Irvine",
                    "1": "92614"
                },
                {
                    "0": "Irving",
                    "1": "75061"
                },
                {
                    "0": "Issaquah",
                    "1": "98027"
                },
                {
                    "0": "Ithaca",
                    "1": "14850"
                },
                {
                    "0": "Jefferson City",
                    "1": "65101"
                },
                {
                    "0": "Johnson Creek",
                    "1": "53038"
                },
                {
                    "0": "Joliet",
                    "1": "60433"
                },
                {
                    "0": "Kanata",
                    "1": "K2L 1H5"
                },
                {
                    "0": "Kannapolis",
                    "1": "28081"
                },
                {
                    "0": "Kansas City",
                    "1": "64106"
                },
                {
                    "0": "Kassel",
                    "1": "34117"
                },
                {
                    "0": "Kelso",
                    "1": "98626"
                },
                {
                    "0": "Kendall",
                    "1": "33143"
                },
                {
                    "0": "Kenmore",
                    "1": "98028"
                },
                {
                    "0": "Kennewick",
                    "1": "99337"
                },
                {
                    "0": "Kent",
                    "1": "98031"
                },
                {
                    "0": "Kiel",
                    "1": "24044"
                },
                {
                    "0": "Killeen",
                    "1": "76541"
                },
                {
                    "0": "Kingsport",
                    "1": "37660"
                },
                {
                    "0": "Kingston",
                    "1": "7L"
                },
                {
                    "0": "Kirkby",
                    "1": "KB9"
                },
                {
                    "0": "Kirkland",
                    "1": "98033"
                },
                {
                    "0": "Kittery",
                    "1": "03904"
                },
                {
                    "0": "Klamath Falls",
                    "1": "97601"
                },
                {
                    "0": "La Grange",
                    "1": "30240"
                },
                {
                    "0": "La Jolla",
                    "1": "92806"
                },
                {
                    "0": "La Marque",
                    "1": "77568"
                },
                {
                    "0": "La Mesa",
                    "1": "88044"
                },
                {
                    "0": "La Mesa",
                    "1": "91941"
                },
                {
                    "0": "La Vergne",
                    "1": "37086"
                },
                {
                    "0": "Lacey",
                    "1": "98503"
                },
                {
                    "0": "Lake Elsinore",
                    "1": "92530"
                },
                {
                    "0": "Lake George",
                    "1": "12845"
                },
                {
                    "0": "Lake Oswego",
                    "1": "97034"
                },
                {
                    "0": "Lakeland",
                    "1": "33801"
                },
                {
                    "0": "Lakewood",
                    "1": "63301"
                },
                {
                    "0": "Lakewood",
                    "1": "90712"
                },
                {
                    "0": "Lancaster",
                    "1": "LA1 1LN"
                },
                {
                    "0": "Lane Cove",
                    "1": "1597"
                },
                {
                    "0": "Langford",
                    "1": "V9"
                },
                {
                    "0": "Langley",
                    "1": "V3A 4R2"
                },
                {
                    "0": "Laredo",
                    "1": "78040"
                },
                {
                    "0": "Las Cruces",
                    "1": "88001"
                },
                {
                    "0": "Las Vegas",
                    "1": "89106"
                },
                {
                    "0": "Lavender Bay",
                    "1": "2060"
                },
                {
                    "0": "Lebanon",
                    "1": "97355"
                },
                {
                    "0": "Leeds",
                    "1": "LE18"
                },
                {
                    "0": "Leesburg",
                    "1": "20176"
                },
                {
                    "0": "Leipzig",
                    "1": "04139"
                },
                {
                    "0": "Lemon Grove",
                    "1": "85252"
                },
                {
                    "0": "Lemon Grove",
                    "1": "85284"
                },
                {
                    "0": "Lemon Grove",
                    "1": "91945"
                },
                {
                    "0": "Les Ulis",
                    "1": "91940"
                },
                {
                    "0": "Lewiston",
                    "1": "83501"
                },
                {
                    "0": "Lieusaint",
                    "1": "77127"
                },
                {
                    "0": "Lille",
                    "1": "59000"
                },
                {
                    "0": "Lincoln Acres",
                    "1": "91950"
                },
                {
                    "0": "Liverpool",
                    "1": "L4 4HB"
                },
                {
                    "0": "Logansport",
                    "1": "46947"
                },
                {
                    "0": "London",
                    "1": "C2H 7AU"
                },
                {
                    "0": "London",
                    "1": "E17 6JF"
                },
                {
                    "0": "London",
                    "1": "EC1R 0DU"
                },
                {
                    "0": "London",
                    "1": "SE1 8HL"
                },
                {
                    "0": "London",
                    "1": "SW19 3RU"
                },
                {
                    "0": "London",
                    "1": "SW1P 2NU"
                },
                {
                    "0": "London",
                    "1": "SW6 SBY"
                },
                {
                    "0": "London",
                    "1": "SW8 1XD"
                },
                {
                    "0": "London",
                    "1": "SW8 4BG"
                },
                {
                    "0": "London",
                    "1": "W10 6BL"
                },
                {
                    "0": "London",
                    "1": "W1N 9FA"
                },
                {
                    "0": "London",
                    "1": "W1V 5RN"
                },
                {
                    "0": "London",
                    "1": "W1X3SE"
                },
                {
                    "0": "London",
                    "1": "W1Y 3RA"
                },
                {
                    "0": "Long Beach",
                    "1": "90802"
                },
                {
                    "0": "Longmont",
                    "1": "80501"
                },
                {
                    "0": "Longview",
                    "1": "98632"
                },
                {
                    "0": "Los Angeles",
                    "1": "90012"
                },
                {
                    "0": "Loveland",
                    "1": "80537"
                },
                {
                    "0": "Lynnwood",
                    "1": "98036"
                },
                {
                    "0": "Madison Heights",
                    "1": "48071"
                },
                {
                    "0": "Maidenhead",
                    "1": "SL67RJ"
                },
                {
                    "0": "Malabar",
                    "1": "2036"
                },
                {
                    "0": "Mansfield",
                    "1": "44903"
                },
                {
                    "0": "Marietta",
                    "1": "30060"
                },
                {
                    "0": "Markham",
                    "1": "L3S 3K2"
                },
                {
                    "0": "Marysville",
                    "1": "98270"
                },
                {
                    "0": "Maryville",
                    "1": "37801"
                },
                {
                    "0": "Matraville",
                    "1": "2036"
                },
                {
                    "0": "Mcdonough",
                    "1": "30253"
                },
                {
                    "0": "Medford",
                    "1": "55049"
                },
                {
                    "0": "Medford",
                    "1": "97504"
                },
                {
                    "0": "Melbourne",
                    "1": "3000"
                },
                {
                    "0": "Melton",
                    "1": "3337"
                },
                {
                    "0": "Melville",
                    "1": "11747"
                },
                {
                    "0": "Memphis",
                    "1": "38103"
                },
                {
                    "0": "Mentor",
                    "1": "44060"
                },
                {
                    "0": "Merritt Island",
                    "1": "32952"
                },
                {
                    "0": "Mesa",
                    "1": "85201"
                },
                {
                    "0": "Mesquite",
                    "1": "75149"
                },
                {
                    "0": "Metchosin",
                    "1": "V9"
                },
                {
                    "0": "Metz",
                    "1": "57000"
                },
                {
                    "0": "Miami",
                    "1": "33127"
                },
                {
                    "0": "Michigan City",
                    "1": "46360"
                },
                {
                    "0": "Midland",
                    "1": "48640"
                },
                {
                    "0": "Milford",
                    "1": "06460"
                },
                {
                    "0": "Mill Valley",
                    "1": "59715"
                },
                {
                    "0": "Mill Valley",
                    "1": "68601"
                },
                {
                    "0": "Mill Valley",
                    "1": "94941"
                },
                {
                    "0": "Millington",
                    "1": "38054"
                },
                {
                    "0": "Milpitas",
                    "1": "95035"
                },
                {
                    "0": "Milsons Point",
                    "1": "2061"
                },
                {
                    "0": "Milton Keynes",
                    "1": "MK8 8DF"
                },
                {
                    "0": "Milton Keynes",
                    "1": "MK8 8ZD"
                },
                {
                    "0": "Milwaukee",
                    "1": "53202"
                },
                {
                    "0": "Milwaukie",
                    "1": "97222"
                },
                {
                    "0": "Minneapolis",
                    "1": "55402"
                },
                {
                    "0": "Mississauga",
                    "1": "L4W 5J3"
                },
                {
                    "0": "Mississauga",
                    "1": "L5A 1H6"
                },
                {
                    "0": "Mississauga",
                    "1": "L5B 3V4"
                },
                {
                    "0": "Missoula",
                    "1": "59801"
                },
                {
                    "0": "Mobile",
                    "1": "36602"
                },
                {
                    "0": "Modesto",
                    "1": "95354"
                },
                {
                    "0": "Moline",
                    "1": "61265"
                },
                {
                    "0": "Monroe",
                    "1": "98272"
                },
                {
                    "0": "Monrovia",
                    "1": "91016"
                },
                {
                    "0": "Montgomery",
                    "1": "36104"
                },
                {
                    "0": "Montreal",
                    "1": "H1Y 2H3"
                },
                {
                    "0": "Montreal",
                    "1": "H1Y 2H5"
                },
                {
                    "0": "Montreal",
                    "1": "H1Y 2H7"
                },
                {
                    "0": "Montreal",
                    "1": "H1Y 2H8"
                },
                {
                    "0": "Morangis",
                    "1": "91420"
                },
                {
                    "0": "Mosinee",
                    "1": "54455"
                },
                {
                    "0": "Muehlheim",
                    "1": "63151"
                },
                {
                    "0": "Mühlheim",
                    "1": "63151"
                },
                {
                    "0": "München",
                    "1": "48001"
                },
                {
                    "0": "München",
                    "1": "80074"
                },
                {
                    "0": "Münster",
                    "1": "48001"
                },
                {
                    "0": "Myrtle Beach",
                    "1": "29577"
                },
                {
                    "0": "N. Vancouver",
                    "1": "V7L 4J4"
                },
                {
                    "0": "Nashua",
                    "1": "03064"
                },
                {
                    "0": "Nashville",
                    "1": "37203"
                },
                {
                    "0": "National City",
                    "1": "91950"
                },
                {
                    "0": "Nepean",
                    "1": "K2J 2W5"
                },
                {
                    "0": "Neunkirchen",
                    "1": "66578"
                },
                {
                    "0": "Nevada",
                    "1": "84407"
                },
                {
                    "0": "New Castle",
                    "1": "47362"
                },
                {
                    "0": "New Hartford",
                    "1": "13413"
                },
                {
                    "0": "New Haven",
                    "1": "06510"
                },
                {
                    "0": "New York",
                    "1": "10007"
                },
                {
                    "0": "Newark",
                    "1": "94560"
                },
                {
                    "0": "Newcastle",
                    "1": "2300"
                },
                {
                    "0": "Newcastle upon Tyne",
                    "1": "NT20"
                },
                {
                    "0": "Newport",
                    "1": "41071"
                },
                {
                    "0": "Newport Beach",
                    "1": "92625"
                },
                {
                    "0": "Newport Hills",
                    "1": "98006"
                },
                {
                    "0": "Newport News",
                    "1": "23607"
                },
                {
                    "0": "Newton",
                    "1": "V2L3W8"
                },
                {
                    "0": "Newton",
                    "1": "V2M1N7"
                },
                {
                    "0": "Newton",
                    "1": "V2M1P1"
                },
                {
                    "0": "Newton",
                    "1": "V2M1S6"
                },
                {
                    "0": "Norridge",
                    "1": "60706"
                },
                {
                    "0": "North Bend",
                    "1": "98045"
                },
                {
                    "0": "North Las Vegas",
                    "1": "89030"
                },
                {
                    "0": "North Miami Beach",
                    "1": "33162"
                },
                {
                    "0": "North Randall",
                    "1": "44128"
                },
                {
                    "0": "North Ryde",
                    "1": "2113"
                },
                {
                    "0": "North Sioux City",
                    "1": "57049"
                },
                {
                    "0": "North Sydney",
                    "1": "2055"
                },
                {
                    "0": "North York",
                    "1": "M4C 4K6"
                },
                {
                    "0": "Norwalk",
                    "1": "90650"
                },
                {
                    "0": "Norwood",
                    "1": "02062"
                },
                {
                    "0": "Novato",
                    "1": "82070"
                },
                {
                    "0": "Novato",
                    "1": "94947"
                },
                {
                    "0": "Novi",
                    "1": "48375"
                },
                {
                    "0": "Oak Bay",
                    "1": "V8P"
                },
                {
                    "0": "Oakland",
                    "1": "94611"
                },
                {
                    "0": "Oberlin",
                    "1": "44074"
                },
                {
                    "0": "Odessa",
                    "1": "64076"
                },
                {
                    "0": "Offenbach",
                    "1": "63009"
                },
                {
                    "0": "Ogden",
                    "1": "84401"
                },
                {
                    "0": "Olympia",
                    "1": "98501"
                },
                {
                    "0": "Ontario",
                    "1": "91764"
                },
                {
                    "0": "Orange",
                    "1": "92867"
                },
                {
                    "0": "Oregon City",
                    "1": "97045"
                },
                {
                    "0": "Orlando",
                    "1": "32804"
                },
                {
                    "0": "Orleans",
                    "1": "45000"
                },
                {
                    "0": "Orly",
                    "1": "94310"
                },
                {
                    "0": "Ottawa",
                    "1": "K4B 1S1"
                },
                {
                    "0": "Ottawa",
                    "1": "K4B 1S2"
                },
                {
                    "0": "Ottawa",
                    "1": "K4B 1S3"
                },
                {
                    "0": "Ottawa",
                    "1": "K4B 1T7"
                },
                {
                    "0": "Outremont",
                    "1": "H1Y 2G5"
                },
                {
                    "0": "Oxford",
                    "1": "OX1"
                },
                {
                    "0": "Oxford",
                    "1": "OX14 4SE"
                },
                {
                    "0": "Oxnard",
                    "1": "93030"
                },
                {
                    "0": "Oxon",
                    "1": "OX16 8RS"
                },
                {
                    "0": "Paderborn",
                    "1": "33041"
                },
                {
                    "0": "Paderborn",
                    "1": "33098"
                },
                {
                    "0": "Palo Alto",
                    "1": "94303"
                },
                {
                    "0": "Pantin",
                    "1": "93500"
                },
                {
                    "0": "Paris",
                    "1": "75002"
                },
                {
                    "0": "Paris",
                    "1": "75003"
                },
                {
                    "0": "Paris",
                    "1": "75005"
                },
                {
                    "0": "Paris",
                    "1": "75006"
                },
                {
                    "0": "Paris",
                    "1": "75007"
                },
                {
                    "0": "Paris",
                    "1": "75008"
                },
                {
                    "0": "Paris",
                    "1": "75009"
                },
                {
                    "0": "Paris",
                    "1": "75010"
                },
                {
                    "0": "Paris",
                    "1": "75012"
                },
                {
                    "0": "Paris",
                    "1": "75013"
                },
                {
                    "0": "Paris",
                    "1": "75016"
                },
                {
                    "0": "Paris",
                    "1": "75017"
                },
                {
                    "0": "Paris",
                    "1": "75019"
                },
                {
                    "0": "Paris La Defense",
                    "1": "92081"
                },
                {
                    "0": "Park City",
                    "1": "84098"
                },
                {
                    "0": "Parker",
                    "1": "80138"
                },
                {
                    "0": "Peoria",
                    "1": "61606"
                },
                {
                    "0": "Perth",
                    "1": "6006"
                },
                {
                    "0": "Peterborough",
                    "1": "PB12"
                },
                {
                    "0": "Philadelphia",
                    "1": "19107"
                },
                {
                    "0": "Phoenix",
                    "1": "85004"
                },
                {
                    "0": "Pigeon Forge",
                    "1": "37863"
                },
                {
                    "0": "Plaistow",
                    "1": "03865"
                },
                {
                    "0": "Plano",
                    "1": "75074"
                },
                {
                    "0": "Pleasanton",
                    "1": "94566"
                },
                {
                    "0": "Pnot-Rouge",
                    "1": "J1E 2T7"
                },
                {
                    "0": "Poing",
                    "1": "66041"
                },
                {
                    "0": "Pontiac",
                    "1": "48342"
                },
                {
                    "0": "Port Hammond",
                    "1": "V6B 3P7"
                },
                {
                    "0": "Port Huron",
                    "1": "48060"
                },
                {
                    "0": "Port Macquarie",
                    "1": "2444"
                },
                {
                    "0": "Port Orchard",
                    "1": "98366"
                },
                {
                    "0": "Portland",
                    "1": "97205"
                },
                {
                    "0": "Puyallup",
                    "1": "98371"
                },
                {
                    "0": "Quebec",
                    "1": "G1R"
                },
                {
                    "0": "Racine",
                    "1": "53182"
                },
                {
                    "0": "Raleigh",
                    "1": "27603"
                },
                {
                    "0": "Randolph",
                    "1": "02368"
                },
                {
                    "0": "Reading",
                    "1": "RG7 5H7"
                },
                {
                    "0": "Redford",
                    "1": "48239"
                },
                {
                    "0": "Redlands",
                    "1": "92373"
                },
                {
                    "0": "Redmond",
                    "1": "98052"
                },
                {
                    "0": "Redwood City",
                    "1": "94063"
                },
                {
                    "0": "Reno",
                    "1": "89502"
                },
                {
                    "0": "Renton",
                    "1": "98055"
                },
                {
                    "0": "Rhodes",
                    "1": "2138"
                },
                {
                    "0": "Richmond",
                    "1": "94801"
                },
                {
                    "0": "Richmond",
                    "1": "V6B 3P7"
                },
                {
                    "0": "Richmond Hill",
                    "1": "L4E 3M5"
                },
                {
                    "0": "Rio Rancho",
                    "1": "87124"
                },
                {
                    "0": "Riverton",
                    "1": "84065"
                },
                {
                    "0": "Rock Springs",
                    "1": "82901"
                },
                {
                    "0": "Rockhampton",
                    "1": "4700"
                },
                {
                    "0": "Rocky Mount",
                    "1": "27803"
                },
                {
                    "0": "Roissy en Brie",
                    "1": "77680"
                },
                {
                    "0": "Roncq",
                    "1": "59223"
                },
                {
                    "0": "Roubaix",
                    "1": "59100"
                },
                {
                    "0": "Round Rock",
                    "1": "78664"
                },
                {
                    "0": "Royal Oak",
                    "1": "V8X"
                },
                {
                    "0": "Runcorn",
                    "1": "TY31"
                },
                {
                    "0": "Saarbrücken",
                    "1": "66001"
                },
                {
                    "0": "Saarlouis",
                    "1": "66740"
                },
                {
                    "0": "Sacramento",
                    "1": "95814"
                },
                {
                    "0": "Saginaw",
                    "1": "48601"
                },
                {
                    "0": "Saint Ann",
                    "1": "63074"
                },
                {
                    "0": "Saint Germain en Laye",
                    "1": "78100"
                },
                {
                    "0": "Saint John",
                    "1": "E2P 1E3"
                },
                {
                    "0": "Saint Louis",
                    "1": "63103"
                },
                {
                    "0": "Saint Matthews",
                    "1": "40207"
                },
                {
                    "0": "Saint Ouen",
                    "1": "17490"
                },
                {
                    "0": "Saint Ouen",
                    "1": "41100"
                },
                {
                    "0": "Saint Ouen",
                    "1": "80610"
                },
                {
                    "0": "Saint-Denis",
                    "1": "93400"
                },
                {
                    "0": "Sainte-Foy",
                    "1": "G1W"
                },
                {
                    "0": "Salem",
                    "1": "97301"
                },
                {
                    "0": "Salt Lake City",
                    "1": "84101"
                },
                {
                    "0": "Salzgitter",
                    "1": "38231"
                },
                {
                    "0": "Sammamish",
                    "1": "98074"
                },
                {
                    "0": "San Antonio",
                    "1": "78204"
                },
                {
                    "0": "San Bruno",
                    "1": "94066"
                },
                {
                    "0": "San Carlos",
                    "1": "94070"
                },
                {
                    "0": "San Diego",
                    "1": "92102"
                },
                {
                    "0": "San Francisco",
                    "1": "94109"
                },
                {
                    "0": "San Gabriel",
                    "1": "91776"
                },
                {
                    "0": "San Jose",
                    "1": "95112"
                },
                {
                    "0": "San Mateo",
                    "1": "94404"
                },
                {
                    "0": "San Ramon",
                    "1": "94583"
                },
                {
                    "0": "San Ysidro",
                    "1": "92173"
                },
                {
                    "0": "Sand City",
                    "1": "93955"
                },
                {
                    "0": "Sandpoint",
                    "1": "83864"
                },
                {
                    "0": "Sandy",
                    "1": "84070"
                },
                {
                    "0": "Santa Ana",
                    "1": "92701"
                },
                {
                    "0": "Santa Cruz",
                    "1": "95062"
                },
                {
                    "0": "Santa Fe",
                    "1": "87501"
                },
                {
                    "0": "Santa Monica",
                    "1": "90401"
                },
                {
                    "0": "Sarasota",
                    "1": "34236"
                },
                {
                    "0": "Saugus",
                    "1": "01906"
                },
                {
                    "0": "Savannah",
                    "1": "31401"
                },
                {
                    "0": "Scarborough",
                    "1": "M1V 4M2"
                },
                {
                    "0": "Scottsdale",
                    "1": "85257"
                },
                {
                    "0": "Seaford",
                    "1": "3198"
                },
                {
                    "0": "Seattle",
                    "1": "98104"
                },
                {
                    "0": "Sedro Woolley",
                    "1": "98284"
                },
                {
                    "0": "Sequim",
                    "1": "98382"
                },
                {
                    "0": "Sèvres",
                    "1": "92310"
                },
                {
                    "0": "Shawnee",
                    "1": "V8Z 4N5"
                },
                {
                    "0": "Shawnee",
                    "1": "V9B 2C3"
                },
                {
                    "0": "Shawnee",
                    "1": "V9B 5T2"
                },
                {
                    "0": "Shelton",
                    "1": "98584"
                },
                {
                    "0": "Sherman Oaks",
                    "1": "91403"
                },
                {
                    "0": "Sillery",
                    "1": "G1T"
                },
                {
                    "0": "Silverwater",
                    "1": "2264"
                },
                {
                    "0": "Simi Valley",
                    "1": "93065"
                },
                {
                    "0": "Smithfield",
                    "1": "27577"
                },
                {
                    "0": "Snohomish",
                    "1": "98296"
                },
                {
                    "0": "Solingen",
                    "1": "42651"
                },
                {
                    "0": "Somerset",
                    "1": "42501"
                },
                {
                    "0": "Sooke",
                    "1": "V0"
                },
                {
                    "0": "South Bend",
                    "1": "46601"
                },
                {
                    "0": "South Melbourne",
                    "1": "3205"
                },
                {
                    "0": "Southfield",
                    "1": "48034"
                },
                {
                    "0": "Southgate",
                    "1": "48195"
                },
                {
                    "0": "Sparks",
                    "1": "89431"
                },
                {
                    "0": "Spokane",
                    "1": "99202"
                },
                {
                    "0": "Spring Valley",
                    "1": "91977"
                },
                {
                    "0": "Springdale",
                    "1": "45246"
                },
                {
                    "0": "Springfield",
                    "1": "97477"
                },
                {
                    "0": "Springwood",
                    "1": "2777"
                },
                {
                    "0": "St. Leonards",
                    "1": "2065"
                },
                {
                    "0": "St. Louis",
                    "1": "63103"
                },
                {
                    "0": "Stafford",
                    "1": "77477"
                },
                {
                    "0": "Stamford",
                    "1": "06901"
                },
                {
                    "0": "Stockton",
                    "1": "95202"
                },
                {
                    "0": "Stoke-on-Trent",
                    "1": "AS23"
                },
                {
                    "0": "Stuttgart",
                    "1": "70452"
                },
                {
                    "0": "Stuttgart",
                    "1": "70511"
                },
                {
                    "0": "Sugar Land",
                    "1": "77478"
                },
                {
                    "0": "Sulzbach Taunus",
                    "1": "66272"
                },
                {
                    "0": "Sunbury",
                    "1": "3429"
                },
                {
                    "0": "Sunrise",
                    "1": "33322"
                },
                {
                    "0": "Suresnes",
                    "1": "92150"
                },
                {
                    "0": "Surprise",
                    "1": "85374"
                },
                {
                    "0": "Surrey",
                    "1": "V3T 4W3"
                },
                {
                    "0": "Suwanee",
                    "1": "30024"
                },
                {
                    "0": "Sydney",
                    "1": "1002"
                },
                {
                    "0": "Tacoma",
                    "1": "98403"
                },
                {
                    "0": "Tampa",
                    "1": "33602"
                },
                {
                    "0": "Tigard",
                    "1": "97223"
                },
                {
                    "0": "Tilton",
                    "1": "03276"
                },
                {
                    "0": "Tooele",
                    "1": "84074"
                },
                {
                    "0": "Toronto",
                    "1": "M4B 1V4"
                },
                {
                    "0": "Toronto",
                    "1": "M4B 1V5"
                },
                {
                    "0": "Toronto",
                    "1": "M4B 1V6"
                },
                {
                    "0": "Toronto",
                    "1": "M4B 1V7"
                },
                {
                    "0": "Torrance",
                    "1": "90505"
                },
                {
                    "0": "Townsville",
                    "1": "4810"
                },
                {
                    "0": "Trabuco Canyon",
                    "1": "92679"
                },
                {
                    "0": "Tremblay-en-France",
                    "1": "93290"
                },
                {
                    "0": "Troutdale",
                    "1": "97060"
                },
                {
                    "0": "Tucson",
                    "1": "85701"
                },
                {
                    "0": "Tupelo",
                    "1": "38804"
                },
                {
                    "0": "Tuscola",
                    "1": "61953"
                },
                {
                    "0": "Union City",
                    "1": "94587"
                },
                {
                    "0": "Union Gap",
                    "1": "98903"
                },
                {
                    "0": "Upland",
                    "1": "91786"
                },
                {
                    "0": "Vacaville",
                    "1": "95688"
                },
                {
                    "0": "Valley Stream",
                    "1": "11580"
                },
                {
                    "0": "Van Nuys",
                    "1": "91411"
                },
                {
                    "0": "Vancouver",
                    "1": "V5T 1Y9"
                },
                {
                    "0": "Vancouver",
                    "1": "V7L 4J4"
                },
                {
                    "0": "Vero Beach",
                    "1": "32960"
                },
                {
                    "0": "Verrieres Le Buisson",
                    "1": "91370"
                },
                {
                    "0": "Versailles",
                    "1": "78000"
                },
                {
                    "0": "Victoria",
                    "1": "V8V"
                },
                {
                    "0": "Ville De'anjou",
                    "1": "J1G 2R3"
                },
                {
                    "0": "Villeneuve-d'Ascq",
                    "1": "59491"
                },
                {
                    "0": "Virginia Beach",
                    "1": "23451"
                },
                {
                    "0": "Visalia",
                    "1": "93291"
                },
                {
                    "0": "Vista",
                    "1": "92084"
                },
                {
                    "0": "W. Linn",
                    "1": "89701"
                },
                {
                    "0": "W. Linn",
                    "1": "97068"
                },
                {
                    "0": "W. York",
                    "1": "BD1 4SJ"
                },
                {
                    "0": "Walla Walla",
                    "1": "99362"
                },
                {
                    "0": "Walnut Creek",
                    "1": "94596"
                },
                {
                    "0": "Warrington",
                    "1": "WA1"
                },
                {
                    "0": "Warrington",
                    "1": "WA3 7BH"
                },
                {
                    "0": "Warrnambool",
                    "1": "3280"
                },
                {
                    "0": "Warwick",
                    "1": "02889"
                },
                {
                    "0": "Washougal",
                    "1": "98671"
                },
                {
                    "0": "Waterbury",
                    "1": "06710"
                },
                {
                    "0": "Waterloo",
                    "1": "N2V"
                },
                {
                    "0": "Watford",
                    "1": "WA3"
                },
                {
                    "0": "Wenatchee",
                    "1": "98801"
                },
                {
                    "0": "Werne",
                    "1": "59368"
                },
                {
                    "0": "West Chicago",
                    "1": "60185"
                },
                {
                    "0": "West Covina",
                    "1": "83301"
                },
                {
                    "0": "West Covina",
                    "1": "91791"
                },
                {
                    "0": "West Kingston",
                    "1": "02892"
                },
                {
                    "0": "West Sussex",
                    "1": "RH15 9UD"
                },
                {
                    "0": "Westland",
                    "1": "48185"
                },
                {
                    "0": "Westminster",
                    "1": "80030"
                },
                {
                    "0": "Westminster",
                    "1": "V3L 1E7"
                },
                {
                    "0": "Westminster",
                    "1": "V3L 1H4"
                },
                {
                    "0": "Weston",
                    "1": "M9V 4W3"
                },
                {
                    "0": "Westport",
                    "1": "06880"
                },
                {
                    "0": "Whittier",
                    "1": "90605"
                },
                {
                    "0": "Winnipeg",
                    "1": "R3"
                },
                {
                    "0": "Winston-Salem",
                    "1": "27104"
                },
                {
                    "0": "Wokingham",
                    "1": "RG41 1QW"
                },
                {
                    "0": "Wollongong",
                    "1": "2500"
                },
                {
                    "0": "Wood Dale",
                    "1": "60191"
                },
                {
                    "0": "Woodburn",
                    "1": "97071"
                },
                {
                    "0": "Woodbury",
                    "1": "55125"
                },
                {
                    "0": "Woodinville",
                    "1": "98072"
                },
                {
                    "0": "Woodland Hills",
                    "1": "91364"
                },
                {
                    "0": "Woolston",
                    "1": "WA1 4SY"
                },
                {
                    "0": "Woonsocket",
                    "1": "02895"
                },
                {
                    "0": "Wrentham",
                    "1": "02093"
                },
                {
                    "0": "Yakima",
                    "1": "98901"
                },
                {
                    "0": "York",
                    "1": "Y024 1GF"
                },
                {
                    "0": "York",
                    "1": "Y03 4TN"
                },
                {
                    "0": "York",
                    "1": "YO15"
                },
                {
                    "0": "Zeeland",
                    "1": "49464"
                }
            ]
        },
        "text/html": [
            "<table>",
            "<tr><th>City</th><th>PostalCode</th></tr>",
            "<tr><td>Abingdon</td><td>OX14 4SE</td></tr>",
            "<tr><td>Albany</td><td>12210</td></tr>",
            "<tr><td>Albany</td><td>97321</td></tr>",
            "<tr><td>Alexandria</td><td>2015</td></tr>",
            "<tr><td>Alhambra</td><td>91801</td></tr>",
            "<tr><td>Alpine</td><td>91901</td></tr>",
            "<tr><td>Altadena</td><td>91001</td></tr>",
            "<tr><td>Altamonte Springs</td><td>32701</td></tr>",
            "<tr><td>Anacortes</td><td>98221</td></tr>",
            "<tr><td>Arlington</td><td>76010</td></tr>",
            "<tr><td>Ascheim</td><td>86171</td></tr>",
            "<tr><td>Atlanta</td><td>30308</td></tr>",
            "<tr><td>Auburn</td><td>95603</td></tr>",
            "<tr><td>Augsburg</td><td>86150</td></tr>",
            "<tr><td>Augsburg</td><td>86171</td></tr>",
            "<tr><td>Augusta</td><td>30901</td></tr>",
            "<tr><td>Aujan Mournede</td><td>32300</td></tr>",
            "<tr><td>Aurora</td><td>L4G 7N6</td></tr>",
            "<tr><td>Austell</td><td>30106</td></tr>",
            "<tr><td>Austin</td><td>78701</td></tr>",
            "<tr><td>Bad Soden</td><td>65800</td></tr>",
            "<tr><td>Baldwin Park</td><td>91706</td></tr>",
            "<tr><td>Ballard</td><td>98107</td></tr>",
            "<tr><td>Baltimore</td><td>21201</td></tr>",
            "<tr><td>Barrie</td><td>L4N</td></tr>",
            "<tr><td>Barstow</td><td>92311</td></tr>",
            "<tr><td>Basingstoke Hants</td><td>RG24 8PL</td></tr>",
            "<tr><td>Baytown</td><td>77520</td></tr>",
            "<tr><td>Beaverton</td><td>97005</td></tr>",
            "<tr><td>Bell Gardens</td><td>90201</td></tr>",
            "<tr><td>Bellevue</td><td>98004</td></tr>",
            "<tr><td>Bellflower</td><td>90706</td></tr>",
            "<tr><td>Bellingham</td><td>98225</td></tr>",
            "<tr><td>Bendigo</td><td>3550</td></tr>",
            "<tr><td>Berkeley</td><td>94704</td></tr>",
            "<tr><td>Berks</td><td>SL4 1RH</td></tr>",
            "<tr><td>Berkshire</td><td>RG11 5TP</td></tr>",
            "<tr><td>Berlin</td><td>10210</td></tr>",
            "<tr><td>Berlin</td><td>10501</td></tr>",
            "<tr><td>Berlin</td><td>10791</td></tr>",
            "<tr><td>Berlin</td><td>12171</td></tr>",
            "<tr><td>Berlin</td><td>12311</td></tr>",
            "<tr><td>Berlin</td><td>13441</td></tr>",
            "<tr><td>Berlin</td><td>14111</td></tr>",
            "<tr><td>Berlin</td><td>14129</td></tr>",
            "<tr><td>Berlin</td><td>14197</td></tr>",
            "<tr><td>Beverly Hills</td><td>90210</td></tr>",
            "<tr><td>Billericay</td><td>CM11</td></tr>",
            "<tr><td>Billings</td><td>59101</td></tr>",
            "<tr><td>Biloxi</td><td>39530</td></tr>",
            "<tr><td>Birmingham</td><td>35203</td></tr>",
            "<tr><td>Birmingham</td><td>B29 6SL</td></tr>",
            "<tr><td>Bluffton</td><td>29910</td></tr>",
            "<tr><td>Bobigny</td><td>93000</td></tr>",
            "<tr><td>Boise</td><td>83702</td></tr>",
            "<tr><td>Bonn</td><td>53001</td></tr>",
            "<tr><td>Bonn</td><td>53131</td></tr>",
            "<tr><td>Bordeaux</td><td>33000</td></tr>",
            "<tr><td>Boston</td><td>02113</td></tr>",
            "<tr><td>Bothell</td><td>98011</td></tr>",
            "<tr><td>Bottrop</td><td>46236</td></tr>",
            "<tr><td>Boulogne-Billancourt</td><td>92100</td></tr>",
            "<tr><td>Boulogne-sur-Mer</td><td>62200</td></tr>",
            "<tr><td>Bountiful</td><td>84010</td></tr>",
            "<tr><td>Bracknell</td><td>RG12 8TB</td></tr>",
            "<tr><td>Bradenton</td><td>34205</td></tr>",
            "<tr><td>Braintree</td><td>02184</td></tr>",
            "<tr><td>Brampton</td><td>L6W 2T7</td></tr>",
            "<tr><td>Branch</td><td>55056</td></tr>",
            "<tr><td>Branson</td><td>65616</td></tr>",
            "<tr><td>Braunschweig</td><td>38001</td></tr>",
            "<tr><td>Bremerton</td><td>98312</td></tr>",
            "<tr><td>Brisbane</td><td>4000</td></tr>",
            "<tr><td>Brossard</td><td>J4Z 1C5</td></tr>",
            "<tr><td>Brossard</td><td>J4Z 1R4</td></tr>",
            "<tr><td>Burbank</td><td>44214</td></tr>",
            "<tr><td>Burbank</td><td>91502</td></tr>",
            "<tr><td>Burien</td><td>98168</td></tr>",
            "<tr><td>Burlingame</td><td>94010</td></tr>",
            "<tr><td>Burnaby</td><td>V3J 6Z3</td></tr>",
            "<tr><td>Burnaby</td><td>V5A 3A6</td></tr>",
            "<tr><td>Burnaby</td><td>V5A 4X1</td></tr>",
            "<tr><td>Burnaby</td><td>V5G 4S4</td></tr>",
            "<tr><td>Burnaby</td><td>V5G 4W1</td></tr>",
            "<tr><td>Burnaby</td><td>V5H 3Z7</td></tr>",
            "<tr><td>Bury</td><td>PE17</td></tr>",
            "<tr><td>Byron</td><td>31008</td></tr>",
            "<tr><td>Calgary</td><td>T2P 2G8</td></tr>",
            "<tr><td>Caloundra</td><td>4551</td></tr>",
            "<tr><td>Camarillo</td><td>93010</td></tr>",
            "<tr><td>Cambridge</td><td>02139</td></tr>",
            "<tr><td>Cambridge</td><td>BA5 3HX</td></tr>",
            "<tr><td>Cambridge</td><td>CB4 4BZ</td></tr>",
            "<tr><td>Campbellsville</td><td>42718</td></tr>",
            "<tr><td>Canoga Park</td><td>91303</td></tr>",
            "<tr><td>Carnation</td><td>98014</td></tr>",
            "<tr><td>Carol Stream</td><td>60188</td></tr>",
            "<tr><td>Carrollton</td><td>75006</td></tr>",
            "<tr><td>Carson</td><td>90746</td></tr>",
            "<tr><td>Casper</td><td>82601</td></tr>",
            "<tr><td>Cedar City</td><td>84720</td></tr>",
            "<tr><td>Cedar Park</td><td>78613</td></tr>",
            "<tr><td>Central Valley</td><td>10917</td></tr>",
            "<tr><td>Cergy</td><td>95000</td></tr>",
            "<tr><td>Cerritos</td><td>90703</td></tr>",
            "<tr><td>Chalk Riber</td><td>K0J 1J0</td></tr>",
            "<tr><td>Chandler</td><td>85225</td></tr>",
            "<tr><td>Chantilly</td><td>20151</td></tr>",
            "<tr><td>Charlotte</td><td>28202</td></tr>",
            "<tr><td>Chatou</td><td>78400</td></tr>",
            "<tr><td>Cheektowaga</td><td>14227</td></tr>",
            "<tr><td>Chehalis</td><td>98532</td></tr>",
            "<tr><td>Cheltenham</td><td>GL50</td></tr>",
            "<tr><td>Cheyenne</td><td>82001</td></tr>",
            "<tr><td>Chicago</td><td>60610</td></tr>",
            "<tr><td>Chula Vista</td><td>91910</td></tr>",
            "<tr><td>Cincinnati</td><td>45202</td></tr>",
            "<tr><td>Citrus Heights</td><td>95610</td></tr>",
            "<tr><td>City Of Commerce</td><td>90040</td></tr>",
            "<tr><td>Clackamas</td><td>97015</td></tr>",
            "<tr><td>Clackamas</td><td>97015-6403</td></tr>",
            "<tr><td>Clarkston</td><td>30021</td></tr>",
            "<tr><td>Clay</td><td>13041</td></tr>",
            "<tr><td>Clearwater</td><td>33755</td></tr>",
            "<tr><td>Cliffside</td><td>V8Y 1L1</td></tr>",
            "<tr><td>Cloverdale</td><td>6105</td></tr>",
            "<tr><td>Coffs Harbour</td><td>2450</td></tr>",
            "<tr><td>College Station</td><td>77840</td></tr>",
            "<tr><td>Colma</td><td>94014</td></tr>",
            "<tr><td>Colombes</td><td>92700</td></tr>",
            "<tr><td>Colomiers</td><td>31770</td></tr>",
            "<tr><td>Columbus</td><td>31901</td></tr>",
            "<tr><td>Columbus</td><td>43215</td></tr>",
            "<tr><td>Concord</td><td>94519</td></tr>",
            "<tr><td>Coronado</td><td>92118</td></tr>",
            "<tr><td>Corpus Christi</td><td>78404</td></tr>",
            "<tr><td>Corvallis</td><td>97330</td></tr>",
            "<tr><td>Courbevoie</td><td>92400</td></tr>",
            "<tr><td>Cranbourne</td><td>3977</td></tr>",
            "<tr><td>Croix</td><td>59170</td></tr>",
            "<tr><td>Crossville</td><td>38555</td></tr>",
            "<tr><td>Culver City</td><td>90232</td></tr>",
            "<tr><td>Daleville</td><td>47334</td></tr>",
            "<tr><td>Dallas</td><td>75201</td></tr>",
            "<tr><td>Daly City</td><td>94015</td></tr>",
            "<tr><td>Darlinghurst</td><td>2010</td></tr>",
            "<tr><td>Darmstadt</td><td>64283</td></tr>",
            "<tr><td>De Witt</td><td>13214</td></tr>",
            "<tr><td>Decatur</td><td>30030</td></tr>",
            "<tr><td>Denby</td><td>57716</td></tr>",
            "<tr><td>Denver</td><td>80203</td></tr>",
            "<tr><td>Destin</td><td>32541</td></tr>",
            "<tr><td>Detroit</td><td>48226</td></tr>",
            "<tr><td>Dorval</td><td>H9P 1H1</td></tr>",
            "<tr><td>Downey</td><td>37501</td></tr>",
            "<tr><td>Downey</td><td>90241</td></tr>",
            "<tr><td>Drancy</td><td>93700</td></tr>",
            "<tr><td>Dresden</td><td>01071</td></tr>",
            "<tr><td>Duesseldorf</td><td>40434</td></tr>",
            "<tr><td>Duesseldorf</td><td>40605</td></tr>",
            "<tr><td>Duluth</td><td>55802</td></tr>",
            "<tr><td>Dunkerque</td><td>59140</td></tr>",
            "<tr><td>Duvall</td><td>98019</td></tr>",
            "<tr><td>East Brisbane</td><td>4169</td></tr>",
            "<tr><td>East Haven</td><td>06512</td></tr>",
            "<tr><td>Edina</td><td>55436</td></tr>",
            "<tr><td>Edmonds</td><td>98020</td></tr>",
            "<tr><td>Edmonton</td><td>T5</td></tr>",
            "<tr><td>Eilenburg</td><td>04838</td></tr>",
            "<tr><td>El Cajon</td><td>92020</td></tr>",
            "<tr><td>El Segundo</td><td>90245</td></tr>",
            "<tr><td>Elgin</td><td>60120</td></tr>",
            "<tr><td>Elk Grove</td><td>95624</td></tr>",
            "<tr><td>Ellensburg</td><td>98926</td></tr>",
            "<tr><td>Endicott</td><td>13760</td></tr>",
            "<tr><td>Englewood</td><td>80110</td></tr>",
            "<tr><td>Erlangen</td><td>91054</td></tr>",
            "<tr><td>Escondido</td><td>92025</td></tr>",
            "<tr><td>Esher-Molesey</td><td>EM15</td></tr>",
            "<tr><td>Essen</td><td>45001</td></tr>",
            "<tr><td>Etobicoke</td><td>M9W 3P3</td></tr>",
            "<tr><td>Euclid</td><td>44119</td></tr>",
            "<tr><td>Eureka</td><td>95501</td></tr>",
            "<tr><td>Everett</td><td>98201</td></tr>",
            "<tr><td>Falls Church</td><td>22046</td></tr>",
            "<tr><td>Farmington</td><td>06032</td></tr>",
            "<tr><td>Federal Way</td><td>98003</td></tr>",
            "<tr><td>Ferguson</td><td>63135</td></tr>",
            "<tr><td>Fernley</td><td>89408</td></tr>",
            "<tr><td>Findon</td><td>5023</td></tr>",
            "<tr><td>Florence</td><td>35630</td></tr>",
            "<tr><td>Florence</td><td>41042</td></tr>",
            "<tr><td>Fontana</td><td>92335</td></tr>",
            "<tr><td>Fort Wayne</td><td>46807</td></tr>",
            "<tr><td>Fort Worth</td><td>76102</td></tr>",
            "<tr><td>Frankfurt</td><td>60323</td></tr>",
            "<tr><td>Frankfurt</td><td>91480</td></tr>",
            "<tr><td>Frankfurt am Main</td><td>60061</td></tr>",
            "<tr><td>Frankfurt am Main</td><td>60075</td></tr>",
            "<tr><td>Frankfurt am Main</td><td>60082</td></tr>",
            "<tr><td>Frankfurt am Main</td><td>60355</td></tr>",
            "<tr><td>Fremont</td><td>94536</td></tr>",
            "<tr><td>Fullerton</td><td>92831</td></tr>",
            "<tr><td>Gaffney</td><td>29340</td></tr>",
            "<tr><td>Garland</td><td>75040</td></tr>",
            "<tr><td>Gateshead</td><td>GA10</td></tr>",
            "<tr><td>Geelong</td><td>3220</td></tr>",
            "<tr><td>Gilbert</td><td>85233</td></tr>",
            "<tr><td>Gilroy</td><td>95020</td></tr>",
            "<tr><td>Glendale</td><td>91203</td></tr>",
            "<tr><td>Gloucestershire</td><td>GL7 1RY</td></tr>",
            "<tr><td>Gold Bar</td><td>98251</td></tr>",
            "<tr><td>Gold Coast</td><td>4217</td></tr>",
            "<tr><td>Goulburn</td><td>2580</td></tr>",
            "<tr><td>Great Falls</td><td>59401</td></tr>",
            "<tr><td>Greeley</td><td>80631</td></tr>",
            "<tr><td>Greensboro</td><td>27412</td></tr>",
            "<tr><td>Grevenbroich</td><td>41485</td></tr>",
            "<tr><td>Grossmont</td><td>91941</td></tr>",
            "<tr><td>Gulfport</td><td>39501</td></tr>",
            "<tr><td>Hamburg</td><td>20354</td></tr>",
            "<tr><td>Hamburg</td><td>22001</td></tr>",
            "<tr><td>Hamden</td><td>06518</td></tr>",
            "<tr><td>Haney</td><td>V2W 1W2</td></tr>",
            "<tr><td>Hanford</td><td>93230</td></tr>",
            "<tr><td>Hannover</td><td>30601</td></tr>",
            "<tr><td>Hawthorne</td><td>4171</td></tr>",
            "<tr><td>Hayward</td><td>94541</td></tr>",
            "<tr><td>Heath</td><td>43056</td></tr>",
            "<tr><td>Hervey Bay</td><td>4655</td></tr>",
            "<tr><td>High Wycombe</td><td>HP10 9QY</td></tr>",
            "<tr><td>Hillsboro</td><td>76645</td></tr>",
            "<tr><td>Hillsboro</td><td>97123</td></tr>",
            "<tr><td>Hixson</td><td>37343</td></tr>",
            "<tr><td>Hobart</td><td>7001</td></tr>",
            "<tr><td>Hof</td><td>95010</td></tr>",
            "<tr><td>Holland</td><td>43528</td></tr>",
            "<tr><td>Holland</td><td>49423</td></tr>",
            "<tr><td>Hollywood</td><td>33021</td></tr>",
            "<tr><td>Hooksett</td><td>03106</td></tr>",
            "<tr><td>Houston</td><td>77003</td></tr>",
            "<tr><td>Howell</td><td>48843</td></tr>",
            "<tr><td>Hull</td><td>8Y</td></tr>",
            "<tr><td>Humble</td><td>77338</td></tr>",
            "<tr><td>Huntsville</td><td>35801</td></tr>",
            "<tr><td>Idaho Falls</td><td>83402</td></tr>",
            "<tr><td>Imperial Beach</td><td>91932</td></tr>",
            "<tr><td>Index</td><td>98256</td></tr>",
            "<tr><td>Indianapolis</td><td>46204</td></tr>",
            "<tr><td>Ingolstadt</td><td>85049</td></tr>",
            "<tr><td>Irvine</td><td>92614</td></tr>",
            "<tr><td>Irving</td><td>75061</td></tr>",
            "<tr><td>Issaquah</td><td>98027</td></tr>",
            "<tr><td>Ithaca</td><td>14850</td></tr>",
            "<tr><td>Jefferson City</td><td>65101</td></tr>",
            "<tr><td>Johnson Creek</td><td>53038</td></tr>",
            "<tr><td>Joliet</td><td>60433</td></tr>",
            "<tr><td>Kanata</td><td>K2L 1H5</td></tr>",
            "<tr><td>Kannapolis</td><td>28081</td></tr>",
            "<tr><td>Kansas City</td><td>64106</td></tr>",
            "<tr><td>Kassel</td><td>34117</td></tr>",
            "<tr><td>Kelso</td><td>98626</td></tr>",
            "<tr><td>Kendall</td><td>33143</td></tr>",
            "<tr><td>Kenmore</td><td>98028</td></tr>",
            "<tr><td>Kennewick</td><td>99337</td></tr>",
            "<tr><td>Kent</td><td>98031</td></tr>",
            "<tr><td>Kiel</td><td>24044</td></tr>",
            "<tr><td>Killeen</td><td>76541</td></tr>",
            "<tr><td>Kingsport</td><td>37660</td></tr>",
            "<tr><td>Kingston</td><td>7L</td></tr>",
            "<tr><td>Kirkby</td><td>KB9</td></tr>",
            "<tr><td>Kirkland</td><td>98033</td></tr>",
            "<tr><td>Kittery</td><td>03904</td></tr>",
            "<tr><td>Klamath Falls</td><td>97601</td></tr>",
            "<tr><td>La Grange</td><td>30240</td></tr>",
            "<tr><td>La Jolla</td><td>92806</td></tr>",
            "<tr><td>La Marque</td><td>77568</td></tr>",
            "<tr><td>La Mesa</td><td>88044</td></tr>",
            "<tr><td>La Mesa</td><td>91941</td></tr>",
            "<tr><td>La Vergne</td><td>37086</td></tr>",
            "<tr><td>Lacey</td><td>98503</td></tr>",
            "<tr><td>Lake Elsinore</td><td>92530</td></tr>",
            "<tr><td>Lake George</td><td>12845</td></tr>",
            "<tr><td>Lake Oswego</td><td>97034</td></tr>",
            "<tr><td>Lakeland</td><td>33801</td></tr>",
            "<tr><td>Lakewood</td><td>63301</td></tr>",
            "<tr><td>Lakewood</td><td>90712</td></tr>",
            "<tr><td>Lancaster</td><td>LA1 1LN</td></tr>",
            "<tr><td>Lane Cove</td><td>1597</td></tr>",
            "<tr><td>Langford</td><td>V9</td></tr>",
            "<tr><td>Langley</td><td>V3A 4R2</td></tr>",
            "<tr><td>Laredo</td><td>78040</td></tr>",
            "<tr><td>Las Cruces</td><td>88001</td></tr>",
            "<tr><td>Las Vegas</td><td>89106</td></tr>",
            "<tr><td>Lavender Bay</td><td>2060</td></tr>",
            "<tr><td>Lebanon</td><td>97355</td></tr>",
            "<tr><td>Leeds</td><td>LE18</td></tr>",
            "<tr><td>Leesburg</td><td>20176</td></tr>",
            "<tr><td>Leipzig</td><td>04139</td></tr>",
            "<tr><td>Lemon Grove</td><td>85252</td></tr>",
            "<tr><td>Lemon Grove</td><td>85284</td></tr>",
            "<tr><td>Lemon Grove</td><td>91945</td></tr>",
            "<tr><td>Les Ulis</td><td>91940</td></tr>",
            "<tr><td>Lewiston</td><td>83501</td></tr>",
            "<tr><td>Lieusaint</td><td>77127</td></tr>",
            "<tr><td>Lille</td><td>59000</td></tr>",
            "<tr><td>Lincoln Acres</td><td>91950</td></tr>",
            "<tr><td>Liverpool</td><td>L4 4HB</td></tr>",
            "<tr><td>Logansport</td><td>46947</td></tr>",
            "<tr><td>London</td><td>C2H 7AU</td></tr>",
            "<tr><td>London</td><td>E17 6JF</td></tr>",
            "<tr><td>London</td><td>EC1R 0DU</td></tr>",
            "<tr><td>London</td><td>SE1 8HL</td></tr>",
            "<tr><td>London</td><td>SW19 3RU</td></tr>",
            "<tr><td>London</td><td>SW1P 2NU</td></tr>",
            "<tr><td>London</td><td>SW6 SBY</td></tr>",
            "<tr><td>London</td><td>SW8 1XD</td></tr>",
            "<tr><td>London</td><td>SW8 4BG</td></tr>",
            "<tr><td>London</td><td>W10 6BL</td></tr>",
            "<tr><td>London</td><td>W1N 9FA</td></tr>",
            "<tr><td>London</td><td>W1V 5RN</td></tr>",
            "<tr><td>London</td><td>W1X3SE</td></tr>",
            "<tr><td>London</td><td>W1Y 3RA</td></tr>",
            "<tr><td>Long Beach</td><td>90802</td></tr>",
            "<tr><td>Longmont</td><td>80501</td></tr>",
            "<tr><td>Longview</td><td>98632</td></tr>",
            "<tr><td>Los Angeles</td><td>90012</td></tr>",
            "<tr><td>Loveland</td><td>80537</td></tr>",
            "<tr><td>Lynnwood</td><td>98036</td></tr>",
            "<tr><td>Madison Heights</td><td>48071</td></tr>",
            "<tr><td>Maidenhead</td><td>SL67RJ</td></tr>",
            "<tr><td>Malabar</td><td>2036</td></tr>",
            "<tr><td>Mansfield</td><td>44903</td></tr>",
            "<tr><td>Marietta</td><td>30060</td></tr>",
            "<tr><td>Markham</td><td>L3S 3K2</td></tr>",
            "<tr><td>Marysville</td><td>98270</td></tr>",
            "<tr><td>Maryville</td><td>37801</td></tr>",
            "<tr><td>Matraville</td><td>2036</td></tr>",
            "<tr><td>Mcdonough</td><td>30253</td></tr>",
            "<tr><td>Medford</td><td>55049</td></tr>",
            "<tr><td>Medford</td><td>97504</td></tr>",
            "<tr><td>Melbourne</td><td>3000</td></tr>",
            "<tr><td>Melton</td><td>3337</td></tr>",
            "<tr><td>Melville</td><td>11747</td></tr>",
            "<tr><td>Memphis</td><td>38103</td></tr>",
            "<tr><td>Mentor</td><td>44060</td></tr>",
            "<tr><td>Merritt Island</td><td>32952</td></tr>",
            "<tr><td>Mesa</td><td>85201</td></tr>",
            "<tr><td>Mesquite</td><td>75149</td></tr>",
            "<tr><td>Metchosin</td><td>V9</td></tr>",
            "<tr><td>Metz</td><td>57000</td></tr>",
            "<tr><td>Miami</td><td>33127</td></tr>",
            "<tr><td>Michigan City</td><td>46360</td></tr>",
            "<tr><td>Midland</td><td>48640</td></tr>",
            "<tr><td>Milford</td><td>06460</td></tr>",
            "<tr><td>Mill Valley</td><td>59715</td></tr>",
            "<tr><td>Mill Valley</td><td>68601</td></tr>",
            "<tr><td>Mill Valley</td><td>94941</td></tr>",
            "<tr><td>Millington</td><td>38054</td></tr>",
            "<tr><td>Milpitas</td><td>95035</td></tr>",
            "<tr><td>Milsons Point</td><td>2061</td></tr>",
            "<tr><td>Milton Keynes</td><td>MK8 8DF</td></tr>",
            "<tr><td>Milton Keynes</td><td>MK8 8ZD</td></tr>",
            "<tr><td>Milwaukee</td><td>53202</td></tr>",
            "<tr><td>Milwaukie</td><td>97222</td></tr>",
            "<tr><td>Minneapolis</td><td>55402</td></tr>",
            "<tr><td>Mississauga</td><td>L4W 5J3</td></tr>",
            "<tr><td>Mississauga</td><td>L5A 1H6</td></tr>",
            "<tr><td>Mississauga</td><td>L5B 3V4</td></tr>",
            "<tr><td>Missoula</td><td>59801</td></tr>",
            "<tr><td>Mobile</td><td>36602</td></tr>",
            "<tr><td>Modesto</td><td>95354</td></tr>",
            "<tr><td>Moline</td><td>61265</td></tr>",
            "<tr><td>Monroe</td><td>98272</td></tr>",
            "<tr><td>Monrovia</td><td>91016</td></tr>",
            "<tr><td>Montgomery</td><td>36104</td></tr>",
            "<tr><td>Montreal</td><td>H1Y 2H3</td></tr>",
            "<tr><td>Montreal</td><td>H1Y 2H5</td></tr>",
            "<tr><td>Montreal</td><td>H1Y 2H7</td></tr>",
            "<tr><td>Montreal</td><td>H1Y 2H8</td></tr>",
            "<tr><td>Morangis</td><td>91420</td></tr>",
            "<tr><td>Mosinee</td><td>54455</td></tr>",
            "<tr><td>Muehlheim</td><td>63151</td></tr>",
            "<tr><td>Mühlheim</td><td>63151</td></tr>",
            "<tr><td>München</td><td>48001</td></tr>",
            "<tr><td>München</td><td>80074</td></tr>",
            "<tr><td>Münster</td><td>48001</td></tr>",
            "<tr><td>Myrtle Beach</td><td>29577</td></tr>",
            "<tr><td>N. Vancouver</td><td>V7L 4J4</td></tr>",
            "<tr><td>Nashua</td><td>03064</td></tr>",
            "<tr><td>Nashville</td><td>37203</td></tr>",
            "<tr><td>National City</td><td>91950</td></tr>",
            "<tr><td>Nepean</td><td>K2J 2W5</td></tr>",
            "<tr><td>Neunkirchen</td><td>66578</td></tr>",
            "<tr><td>Nevada</td><td>84407</td></tr>",
            "<tr><td>New Castle</td><td>47362</td></tr>",
            "<tr><td>New Hartford</td><td>13413</td></tr>",
            "<tr><td>New Haven</td><td>06510</td></tr>",
            "<tr><td>New York</td><td>10007</td></tr>",
            "<tr><td>Newark</td><td>94560</td></tr>",
            "<tr><td>Newcastle</td><td>2300</td></tr>",
            "<tr><td>Newcastle upon Tyne</td><td>NT20</td></tr>",
            "<tr><td>Newport</td><td>41071</td></tr>",
            "<tr><td>Newport Beach</td><td>92625</td></tr>",
            "<tr><td>Newport Hills</td><td>98006</td></tr>",
            "<tr><td>Newport News</td><td>23607</td></tr>",
            "<tr><td>Newton</td><td>V2L3W8</td></tr>",
            "<tr><td>Newton</td><td>V2M1N7</td></tr>",
            "<tr><td>Newton</td><td>V2M1P1</td></tr>",
            "<tr><td>Newton</td><td>V2M1S6</td></tr>",
            "<tr><td>Norridge</td><td>60706</td></tr>",
            "<tr><td>North Bend</td><td>98045</td></tr>",
            "<tr><td>North Las Vegas</td><td>89030</td></tr>",
            "<tr><td>North Miami Beach</td><td>33162</td></tr>",
            "<tr><td>North Randall</td><td>44128</td></tr>",
            "<tr><td>North Ryde</td><td>2113</td></tr>",
            "<tr><td>North Sioux City</td><td>57049</td></tr>",
            "<tr><td>North Sydney</td><td>2055</td></tr>",
            "<tr><td>North York</td><td>M4C 4K6</td></tr>",
            "<tr><td>Norwalk</td><td>90650</td></tr>",
            "<tr><td>Norwood</td><td>02062</td></tr>",
            "<tr><td>Novato</td><td>82070</td></tr>",
            "<tr><td>Novato</td><td>94947</td></tr>",
            "<tr><td>Novi</td><td>48375</td></tr>",
            "<tr><td>Oak Bay</td><td>V8P</td></tr>",
            "<tr><td>Oakland</td><td>94611</td></tr>",
            "<tr><td>Oberlin</td><td>44074</td></tr>",
            "<tr><td>Odessa</td><td>64076</td></tr>",
            "<tr><td>Offenbach</td><td>63009</td></tr>",
            "<tr><td>Ogden</td><td>84401</td></tr>",
            "<tr><td>Olympia</td><td>98501</td></tr>",
            "<tr><td>Ontario</td><td>91764</td></tr>",
            "<tr><td>Orange</td><td>92867</td></tr>",
            "<tr><td>Oregon City</td><td>97045</td></tr>",
            "<tr><td>Orlando</td><td>32804</td></tr>",
            "<tr><td>Orleans</td><td>45000</td></tr>",
            "<tr><td>Orly</td><td>94310</td></tr>",
            "<tr><td>Ottawa</td><td>K4B 1S1</td></tr>",
            "<tr><td>Ottawa</td><td>K4B 1S2</td></tr>",
            "<tr><td>Ottawa</td><td>K4B 1S3</td></tr>",
            "<tr><td>Ottawa</td><td>K4B 1T7</td></tr>",
            "<tr><td>Outremont</td><td>H1Y 2G5</td></tr>",
            "<tr><td>Oxford</td><td>OX1</td></tr>",
            "<tr><td>Oxford</td><td>OX14 4SE</td></tr>",
            "<tr><td>Oxnard</td><td>93030</td></tr>",
            "<tr><td>Oxon</td><td>OX16 8RS</td></tr>",
            "<tr><td>Paderborn</td><td>33041</td></tr>",
            "<tr><td>Paderborn</td><td>33098</td></tr>",
            "<tr><td>Palo Alto</td><td>94303</td></tr>",
            "<tr><td>Pantin</td><td>93500</td></tr>",
            "<tr><td>Paris</td><td>75002</td></tr>",
            "<tr><td>Paris</td><td>75003</td></tr>",
            "<tr><td>Paris</td><td>75005</td></tr>",
            "<tr><td>Paris</td><td>75006</td></tr>",
            "<tr><td>Paris</td><td>75007</td></tr>",
            "<tr><td>Paris</td><td>75008</td></tr>",
            "<tr><td>Paris</td><td>75009</td></tr>",
            "<tr><td>Paris</td><td>75010</td></tr>",
            "<tr><td>Paris</td><td>75012</td></tr>",
            "<tr><td>Paris</td><td>75013</td></tr>",
            "<tr><td>Paris</td><td>75016</td></tr>",
            "<tr><td>Paris</td><td>75017</td></tr>",
            "<tr><td>Paris</td><td>75019</td></tr>",
            "<tr><td>Paris La Defense</td><td>92081</td></tr>",
            "<tr><td>Park City</td><td>84098</td></tr>",
            "<tr><td>Parker</td><td>80138</td></tr>",
            "<tr><td>Peoria</td><td>61606</td></tr>",
            "<tr><td>Perth</td><td>6006</td></tr>",
            "<tr><td>Peterborough</td><td>PB12</td></tr>",
            "<tr><td>Philadelphia</td><td>19107</td></tr>",
            "<tr><td>Phoenix</td><td>85004</td></tr>",
            "<tr><td>Pigeon Forge</td><td>37863</td></tr>",
            "<tr><td>Plaistow</td><td>03865</td></tr>",
            "<tr><td>Plano</td><td>75074</td></tr>",
            "<tr><td>Pleasanton</td><td>94566</td></tr>",
            "<tr><td>Pnot-Rouge</td><td>J1E 2T7</td></tr>",
            "<tr><td>Poing</td><td>66041</td></tr>",
            "<tr><td>Pontiac</td><td>48342</td></tr>",
            "<tr><td>Port Hammond</td><td>V6B 3P7</td></tr>",
            "<tr><td>Port Huron</td><td>48060</td></tr>",
            "<tr><td>Port Macquarie</td><td>2444</td></tr>",
            "<tr><td>Port Orchard</td><td>98366</td></tr>",
            "<tr><td>Portland</td><td>97205</td></tr>",
            "<tr><td>Puyallup</td><td>98371</td></tr>",
            "<tr><td>Quebec</td><td>G1R</td></tr>",
            "<tr><td>Racine</td><td>53182</td></tr>",
            "<tr><td>Raleigh</td><td>27603</td></tr>",
            "<tr><td>Randolph</td><td>02368</td></tr>",
            "<tr><td>Reading</td><td>RG7 5H7</td></tr>",
            "<tr><td>Redford</td><td>48239</td></tr>",
            "<tr><td>Redlands</td><td>92373</td></tr>",
            "<tr><td>Redmond</td><td>98052</td></tr>",
            "<tr><td>Redwood City</td><td>94063</td></tr>",
            "<tr><td>Reno</td><td>89502</td></tr>",
            "<tr><td>Renton</td><td>98055</td></tr>",
            "<tr><td>Rhodes</td><td>2138</td></tr>",
            "<tr><td>Richmond</td><td>94801</td></tr>",
            "<tr><td>Richmond</td><td>V6B 3P7</td></tr>",
            "<tr><td>Richmond Hill</td><td>L4E 3M5</td></tr>",
            "<tr><td>Rio Rancho</td><td>87124</td></tr>",
            "<tr><td>Riverton</td><td>84065</td></tr>",
            "<tr><td>Rock Springs</td><td>82901</td></tr>",
            "<tr><td>Rockhampton</td><td>4700</td></tr>",
            "<tr><td>Rocky Mount</td><td>27803</td></tr>",
            "<tr><td>Roissy en Brie</td><td>77680</td></tr>",
            "<tr><td>Roncq</td><td>59223</td></tr>",
            "<tr><td>Roubaix</td><td>59100</td></tr>",
            "<tr><td>Round Rock</td><td>78664</td></tr>",
            "<tr><td>Royal Oak</td><td>V8X</td></tr>",
            "<tr><td>Runcorn</td><td>TY31</td></tr>",
            "<tr><td>Saarbrücken</td><td>66001</td></tr>",
            "<tr><td>Saarlouis</td><td>66740</td></tr>",
            "<tr><td>Sacramento</td><td>95814</td></tr>",
            "<tr><td>Saginaw</td><td>48601</td></tr>",
            "<tr><td>Saint Ann</td><td>63074</td></tr>",
            "<tr><td>Saint Germain en Laye</td><td>78100</td></tr>",
            "<tr><td>Saint John</td><td>E2P 1E3</td></tr>",
            "<tr><td>Saint Louis</td><td>63103</td></tr>",
            "<tr><td>Saint Matthews</td><td>40207</td></tr>",
            "<tr><td>Saint Ouen</td><td>17490</td></tr>",
            "<tr><td>Saint Ouen</td><td>41100</td></tr>",
            "<tr><td>Saint Ouen</td><td>80610</td></tr>",
            "<tr><td>Saint-Denis</td><td>93400</td></tr>",
            "<tr><td>Sainte-Foy</td><td>G1W</td></tr>",
            "<tr><td>Salem</td><td>97301</td></tr>",
            "<tr><td>Salt Lake City</td><td>84101</td></tr>",
            "<tr><td>Salzgitter</td><td>38231</td></tr>",
            "<tr><td>Sammamish</td><td>98074</td></tr>",
            "<tr><td>San Antonio</td><td>78204</td></tr>",
            "<tr><td>San Bruno</td><td>94066</td></tr>",
            "<tr><td>San Carlos</td><td>94070</td></tr>",
            "<tr><td>San Diego</td><td>92102</td></tr>",
            "<tr><td>San Francisco</td><td>94109</td></tr>",
            "<tr><td>San Gabriel</td><td>91776</td></tr>",
            "<tr><td>San Jose</td><td>95112</td></tr>",
            "<tr><td>San Mateo</td><td>94404</td></tr>",
            "<tr><td>San Ramon</td><td>94583</td></tr>",
            "<tr><td>San Ysidro</td><td>92173</td></tr>",
            "<tr><td>Sand City</td><td>93955</td></tr>",
            "<tr><td>Sandpoint</td><td>83864</td></tr>",
            "<tr><td>Sandy</td><td>84070</td></tr>",
            "<tr><td>Santa Ana</td><td>92701</td></tr>",
            "<tr><td>Santa Cruz</td><td>95062</td></tr>",
            "<tr><td>Santa Fe</td><td>87501</td></tr>",
            "<tr><td>Santa Monica</td><td>90401</td></tr>",
            "<tr><td>Sarasota</td><td>34236</td></tr>",
            "<tr><td>Saugus</td><td>01906</td></tr>",
            "<tr><td>Savannah</td><td>31401</td></tr>",
            "<tr><td>Scarborough</td><td>M1V 4M2</td></tr>",
            "<tr><td>Scottsdale</td><td>85257</td></tr>",
            "<tr><td>Seaford</td><td>3198</td></tr>",
            "<tr><td>Seattle</td><td>98104</td></tr>",
            "<tr><td>Sedro Woolley</td><td>98284</td></tr>",
            "<tr><td>Sequim</td><td>98382</td></tr>",
            "<tr><td>Sèvres</td><td>92310</td></tr>",
            "<tr><td>Shawnee</td><td>V8Z 4N5</td></tr>",
            "<tr><td>Shawnee</td><td>V9B 2C3</td></tr>",
            "<tr><td>Shawnee</td><td>V9B 5T2</td></tr>",
            "<tr><td>Shelton</td><td>98584</td></tr>",
            "<tr><td>Sherman Oaks</td><td>91403</td></tr>",
            "<tr><td>Sillery</td><td>G1T</td></tr>",
            "<tr><td>Silverwater</td><td>2264</td></tr>",
            "<tr><td>Simi Valley</td><td>93065</td></tr>",
            "<tr><td>Smithfield</td><td>27577</td></tr>",
            "<tr><td>Snohomish</td><td>98296</td></tr>",
            "<tr><td>Solingen</td><td>42651</td></tr>",
            "<tr><td>Somerset</td><td>42501</td></tr>",
            "<tr><td>Sooke</td><td>V0</td></tr>",
            "<tr><td>South Bend</td><td>46601</td></tr>",
            "<tr><td>South Melbourne</td><td>3205</td></tr>",
            "<tr><td>Southfield</td><td>48034</td></tr>",
            "<tr><td>Southgate</td><td>48195</td></tr>",
            "<tr><td>Sparks</td><td>89431</td></tr>",
            "<tr><td>Spokane</td><td>99202</td></tr>",
            "<tr><td>Spring Valley</td><td>91977</td></tr>",
            "<tr><td>Springdale</td><td>45246</td></tr>",
            "<tr><td>Springfield</td><td>97477</td></tr>",
            "<tr><td>Springwood</td><td>2777</td></tr>",
            "<tr><td>St. Leonards</td><td>2065</td></tr>",
            "<tr><td>St. Louis</td><td>63103</td></tr>",
            "<tr><td>Stafford</td><td>77477</td></tr>",
            "<tr><td>Stamford</td><td>06901</td></tr>",
            "<tr><td>Stockton</td><td>95202</td></tr>",
            "<tr><td>Stoke-on-Trent</td><td>AS23</td></tr>",
            "<tr><td>Stuttgart</td><td>70452</td></tr>",
            "<tr><td>Stuttgart</td><td>70511</td></tr>",
            "<tr><td>Sugar Land</td><td>77478</td></tr>",
            "<tr><td>Sulzbach Taunus</td><td>66272</td></tr>",
            "<tr><td>Sunbury</td><td>3429</td></tr>",
            "<tr><td>Sunrise</td><td>33322</td></tr>",
            "<tr><td>Suresnes</td><td>92150</td></tr>",
            "<tr><td>Surprise</td><td>85374</td></tr>",
            "<tr><td>Surrey</td><td>V3T 4W3</td></tr>",
            "<tr><td>Suwanee</td><td>30024</td></tr>",
            "<tr><td>Sydney</td><td>1002</td></tr>",
            "<tr><td>Tacoma</td><td>98403</td></tr>",
            "<tr><td>Tampa</td><td>33602</td></tr>",
            "<tr><td>Tigard</td><td>97223</td></tr>",
            "<tr><td>Tilton</td><td>03276</td></tr>",
            "<tr><td>Tooele</td><td>84074</td></tr>",
            "<tr><td>Toronto</td><td>M4B 1V4</td></tr>",
            "<tr><td>Toronto</td><td>M4B 1V5</td></tr>",
            "<tr><td>Toronto</td><td>M4B 1V6</td></tr>",
            "<tr><td>Toronto</td><td>M4B 1V7</td></tr>",
            "<tr><td>Torrance</td><td>90505</td></tr>",
            "<tr><td>Townsville</td><td>4810</td></tr>",
            "<tr><td>Trabuco Canyon</td><td>92679</td></tr>",
            "<tr><td>Tremblay-en-France</td><td>93290</td></tr>",
            "<tr><td>Troutdale</td><td>97060</td></tr>",
            "<tr><td>Tucson</td><td>85701</td></tr>",
            "<tr><td>Tupelo</td><td>38804</td></tr>",
            "<tr><td>Tuscola</td><td>61953</td></tr>",
            "<tr><td>Union City</td><td>94587</td></tr>",
            "<tr><td>Union Gap</td><td>98903</td></tr>",
            "<tr><td>Upland</td><td>91786</td></tr>",
            "<tr><td>Vacaville</td><td>95688</td></tr>",
            "<tr><td>Valley Stream</td><td>11580</td></tr>",
            "<tr><td>Van Nuys</td><td>91411</td></tr>",
            "<tr><td>Vancouver</td><td>V5T 1Y9</td></tr>",
            "<tr><td>Vancouver</td><td>V7L 4J4</td></tr>",
            "<tr><td>Vero Beach</td><td>32960</td></tr>",
            "<tr><td>Verrieres Le Buisson</td><td>91370</td></tr>",
            "<tr><td>Versailles</td><td>78000</td></tr>",
            "<tr><td>Victoria</td><td>V8V</td></tr>",
            "<tr><td>Ville De'anjou</td><td>J1G 2R3</td></tr>",
            "<tr><td>Villeneuve-d'Ascq</td><td>59491</td></tr>",
            "<tr><td>Virginia Beach</td><td>23451</td></tr>",
            "<tr><td>Visalia</td><td>93291</td></tr>",
            "<tr><td>Vista</td><td>92084</td></tr>",
            "<tr><td>W. Linn</td><td>89701</td></tr>",
            "<tr><td>W. Linn</td><td>97068</td></tr>",
            "<tr><td>W. York</td><td>BD1 4SJ</td></tr>",
            "<tr><td>Walla Walla</td><td>99362</td></tr>",
            "<tr><td>Walnut Creek</td><td>94596</td></tr>",
            "<tr><td>Warrington</td><td>WA1</td></tr>",
            "<tr><td>Warrington</td><td>WA3 7BH</td></tr>",
            "<tr><td>Warrnambool</td><td>3280</td></tr>",
            "<tr><td>Warwick</td><td>02889</td></tr>",
            "<tr><td>Washougal</td><td>98671</td></tr>",
            "<tr><td>Waterbury</td><td>06710</td></tr>",
            "<tr><td>Waterloo</td><td>N2V</td></tr>",
            "<tr><td>Watford</td><td>WA3</td></tr>",
            "<tr><td>Wenatchee</td><td>98801</td></tr>",
            "<tr><td>Werne</td><td>59368</td></tr>",
            "<tr><td>West Chicago</td><td>60185</td></tr>",
            "<tr><td>West Covina</td><td>83301</td></tr>",
            "<tr><td>West Covina</td><td>91791</td></tr>",
            "<tr><td>West Kingston</td><td>02892</td></tr>",
            "<tr><td>West Sussex</td><td>RH15 9UD</td></tr>",
            "<tr><td>Westland</td><td>48185</td></tr>",
            "<tr><td>Westminster</td><td>80030</td></tr>",
            "<tr><td>Westminster</td><td>V3L 1E7</td></tr>",
            "<tr><td>Westminster</td><td>V3L 1H4</td></tr>",
            "<tr><td>Weston</td><td>M9V 4W3</td></tr>",
            "<tr><td>Westport</td><td>06880</td></tr>",
            "<tr><td>Whittier</td><td>90605</td></tr>",
            "<tr><td>Winnipeg</td><td>R3</td></tr>",
            "<tr><td>Winston-Salem</td><td>27104</td></tr>",
            "<tr><td>Wokingham</td><td>RG41 1QW</td></tr>",
            "<tr><td>Wollongong</td><td>2500</td></tr>",
            "<tr><td>Wood Dale</td><td>60191</td></tr>",
            "<tr><td>Woodburn</td><td>97071</td></tr>",
            "<tr><td>Woodbury</td><td>55125</td></tr>",
            "<tr><td>Woodinville</td><td>98072</td></tr>",
            "<tr><td>Woodland Hills</td><td>91364</td></tr>",
            "<tr><td>Woolston</td><td>WA1 4SY</td></tr>",
            "<tr><td>Woonsocket</td><td>02895</td></tr>",
            "<tr><td>Wrentham</td><td>02093</td></tr>",
            "<tr><td>Yakima</td><td>98901</td></tr>",
            "<tr><td>York</td><td>Y024 1GF</td></tr>",
            "<tr><td>York</td><td>Y03 4TN</td></tr>",
            "<tr><td>York</td><td>YO15</td></tr>",
            "<tr><td>Zeeland</td><td>49464</td></tr>",
            "</table>"
        ]
    }
}
],
            "execution_count": null
        }
    ]
}