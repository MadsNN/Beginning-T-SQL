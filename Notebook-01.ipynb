{
    "metadata": {
        "kernelspec": {
            "name": "SQL",
            "display_name": "SQL",
            "language": "sql"
        },
        "language_info": {
            "name": "sql",
            "version": ""
        }
    },
    "nbformat_minor": 2,
    "nbformat": 4,
    "cells": [
        {
            "cell_type": "code",
            "source": [
                "SELECT COUNT(*) AS PersonCount\n",
                "  FROM [AdventureWorks2019].[Person].[Person]"
            ],
            "metadata": {
                "azdata_cell_guid": "20e914c8-6bda-48f4-a25d-67711b561f51"
            },
            "outputs": [
                {
                    "output_type": "display_data",
                    "data": {
                        "text/html": "(1 row affected)"
                    },
                    "metadata": {}
                },
                {
                    "output_type": "display_data",
                    "data": {
                        "text/html": "Total execution time: 00:00:00.008"
                    },
                    "metadata": {}
                },
                {
                    "output_type": "execute_result",
                    "metadata": {},
                    "execution_count": 1,
                    "data": {
                        "application/vnd.dataresource+json": {
                            "schema": {
                                "fields": [
                                    {
                                        "name": "PersonCount"
                                    }
                                ]
                            },
                            "data": [
                                {
                                    "0": "19972"
                                }
                            ]
                        },
                        "text/html": [
                            "<table>",
                            "<tr><th>PersonCount</th></tr>",
                            "<tr><td>19972</td></tr>",
                            "</table>"
                        ]
                    }
                }
            ],
            "execution_count": 1
        }
    ]
}